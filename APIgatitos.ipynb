{
  "nbformat": 4,
  "nbformat_minor": 0,
  "metadata": {
    "colab": {
      "provenance": [],
      "authorship_tag": "ABX9TyMoP9RYjoXh9G5OfEP8qhvt",
      "include_colab_link": true
    },
    "kernelspec": {
      "name": "python3",
      "display_name": "Python 3"
    },
    "language_info": {
      "name": "python"
    }
  },
  "cells": [
    {
      "cell_type": "markdown",
      "metadata": {
        "id": "view-in-github",
        "colab_type": "text"
      },
      "source": [
        "<a href=\"https://colab.research.google.com/github/Parteche/learning-log/blob/main/APIgatitos.ipynb\" target=\"_parent\"><img src=\"https://colab.research.google.com/assets/colab-badge.svg\" alt=\"Open In Colab\"/></a>"
      ]
    },
    {
      "cell_type": "code",
      "execution_count": 1,
      "metadata": {
        "id": "VGBgXgFIj0n8"
      },
      "outputs": [],
      "source": [
        "#Paso 1: Importar request y JSON\n",
        "import requests\n",
        "from IPython.display import Image\n",
        "from IPython.core.display import HTML"
      ]
    },
    {
      "cell_type": "code",
      "source": [
        "#Paso 2: hacer una peticion GET a la API\n",
        "url = \"https://api.thecatapi.com/v1/images/search\"\n",
        "response = requests.get(url)\n",
        "#El request.get() hace una peticion a la API"
      ],
      "metadata": {
        "id": "7s-qw5_okIl6"
      },
      "execution_count": 2,
      "outputs": []
    },
    {
      "cell_type": "code",
      "source": [
        "#Paso 3: Convertir la respuesta en formato JSON\n",
        "data = response.json()\n",
        "#Al poner .json() convertimos la respuesta a un discionario de Python"
      ],
      "metadata": {
        "id": "xHmpPIXJkZId"
      },
      "execution_count": 3,
      "outputs": []
    },
    {
      "cell_type": "code",
      "source": [
        "#Paso 4: Obtener la URL de la imagen\n",
        "Image_url = data[0]['url']\n",
        "#Obtenemos en enlace directo a una imagen"
      ],
      "metadata": {
        "id": "0lgvM8t8q8-K"
      },
      "execution_count": 4,
      "outputs": []
    },
    {
      "cell_type": "code",
      "source": [
        "#Paso 5: mostrar la imagen\n",
        "display(Image(url=Image_url))\n",
        "#Se muestra directamente la imagen solicitada"
      ],
      "metadata": {
        "colab": {
          "base_uri": "https://localhost:8080/",
          "height": 941
        },
        "id": "9a1tb22NtBlh",
        "outputId": "3303998d-661f-4dd0-c9ec-c1cf0550fc78"
      },
      "execution_count": 5,
      "outputs": [
        {
          "output_type": "display_data",
          "data": {
            "text/html": [
              "<img src=\"https://cdn2.thecatapi.com/images/3dbtapCWM.jpg\"/>"
            ],
            "text/plain": [
              "<IPython.core.display.Image object>"
            ]
          },
          "metadata": {}
        }
      ]
    },
    {
      "cell_type": "code",
      "source": [
        "#Haremos un loop para ver 5 imagenes aleatorias\n",
        "for _ in range(5):\n",
        "    response = requests.get(\"https://api.thecatapi.com/v1/images/search\")\n",
        "    data = response.json()\n",
        "    Image_url = data[0]['url']\n",
        "    display(Image(url=Image_url))"
      ],
      "metadata": {
        "colab": {
          "base_uri": "https://localhost:8080/",
          "height": 1000
        },
        "id": "xE0NS0XxuvwQ",
        "outputId": "c688bf8d-c2ae-42ff-aaf5-cced1de0c546"
      },
      "execution_count": 6,
      "outputs": [
        {
          "output_type": "display_data",
          "data": {
            "text/html": [
              "<img src=\"https://cdn2.thecatapi.com/images/dqp.jpg\"/>"
            ],
            "text/plain": [
              "<IPython.core.display.Image object>"
            ]
          },
          "metadata": {}
        },
        {
          "output_type": "display_data",
          "data": {
            "text/html": [
              "<img src=\"https://cdn2.thecatapi.com/images/d8d.jpg\"/>"
            ],
            "text/plain": [
              "<IPython.core.display.Image object>"
            ]
          },
          "metadata": {}
        },
        {
          "output_type": "display_data",
          "data": {
            "text/html": [
              "<img src=\"https://cdn2.thecatapi.com/images/cm6.jpg\"/>"
            ],
            "text/plain": [
              "<IPython.core.display.Image object>"
            ]
          },
          "metadata": {}
        },
        {
          "output_type": "display_data",
          "data": {
            "text/html": [
              "<img src=\"https://cdn2.thecatapi.com/images/ds5.jpg\"/>"
            ],
            "text/plain": [
              "<IPython.core.display.Image object>"
            ]
          },
          "metadata": {}
        },
        {
          "output_type": "display_data",
          "data": {
            "text/html": [
              "<img src=\"https://cdn2.thecatapi.com/images/9gp.jpg\"/>"
            ],
            "text/plain": [
              "<IPython.core.display.Image object>"
            ]
          },
          "metadata": {}
        }
      ]
    }
  ]
}