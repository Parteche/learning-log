{
  "nbformat": 4,
  "nbformat_minor": 0,
  "metadata": {
    "colab": {
      "provenance": [],
      "authorship_tag": "ABX9TyOSqxZJ5kiRVB+XiUNPKfuz",
      "include_colab_link": true
    },
    "kernelspec": {
      "name": "python3",
      "display_name": "Python 3"
    },
    "language_info": {
      "name": "python"
    }
  },
  "cells": [
    {
      "cell_type": "markdown",
      "metadata": {
        "id": "view-in-github",
        "colab_type": "text"
      },
      "source": [
        "<a href=\"https://colab.research.google.com/github/Parteche/learning-log/blob/main/APIspotify.ipynb\" target=\"_parent\"><img src=\"https://colab.research.google.com/assets/colab-badge.svg\" alt=\"Open In Colab\"/></a>"
      ]
    },
    {
      "cell_type": "code",
      "execution_count": null,
      "metadata": {
        "id": "eSJcveTmz3IY"
      },
      "outputs": [],
      "source": [
        "#Usando la API de Spotify\n",
        "#Crear una cuenta de desarrollador en https://developer.spotify.com/dashboard\n",
        "import requests\n",
        "import base64"
      ]
    },
    {
      "cell_type": "code",
      "source": [
        "#Usando mis datos\n",
        "client_id = '70f07d4662634c2d84fc01b1dbf2201d'\n",
        "client_secret = '9346fc2ccef04cad934e22c2f51af8ef'"
      ],
      "metadata": {
        "id": "hzGd6x3T5L3C"
      },
      "execution_count": null,
      "outputs": []
    },
    {
      "cell_type": "code",
      "source": [
        "#Pasp 1: Codificando mis credenciales\n",
        "auth_str = f\"{client_id}:{client_secret}\"\n",
        "auth_b64 = base64.b64encode(auth_str.encode())"
      ],
      "metadata": {
        "id": "21KqsHEc5j1e"
      },
      "execution_count": null,
      "outputs": []
    },
    {
      "cell_type": "code",
      "source": [
        "#Paso 2: Solicitar el token\n",
        "url = \"https://accounts.spotify.com/api/token\"\n",
        "headers = {\n",
        "    \"Authorization\": f\"Basic {auth_b64.decode()}\"\n",
        "}\n",
        "data = {\n",
        "    \"grant_type\": \"client_credentials\"\n",
        "}\n",
        "response = requests.post(url, headers=headers, data=data)\n",
        "acces_token = response.json()[\"access_token\"]"
      ],
      "metadata": {
        "id": "FFz9BBUT592C"
      },
      "execution_count": null,
      "outputs": []
    },
    {
      "cell_type": "code",
      "source": [
        "#Empezar a buscar a tu artista favorito\n",
        "search_url = \"https://api.spotify.com/v1/search\"\n",
        "artist = \"Bruno Mars\"\n",
        "headers = {\n",
        "    \"Authorization\": f\"Bearer {acces_token}\"\n",
        "}\n",
        "params = {\n",
        "    \"q\": artist,\n",
        "    \"type\": \"artist\"\n",
        "}\n",
        "response = requests.get(search_url, headers=headers, params=params)\n",
        "results = response.json()"
      ],
      "metadata": {
        "id": "5ceLOKC36jS9"
      },
      "execution_count": null,
      "outputs": []
    },
    {
      "cell_type": "code",
      "source": [
        "#Mostrando resultados de interes\n",
        "for artist_info in results['artists']['items']:\n",
        "    print(f\"Nombre del Artista: {artist_info['name']}\")\n",
        "    print(f\"Popularidad: {artist_info['popularity']}\")\n",
        "    print(f\"Géneros: {', '.join(artist_info['genres'])}\")\n",
        "    print(f\"URL de Spotify: {artist_info['external_urls']['spotify']}\")\n",
        "    print(\"-\" * 50)"
      ],
      "metadata": {
        "colab": {
          "base_uri": "https://localhost:8080/"
        },
        "id": "IZRbl_Hr-O5F",
        "outputId": "6d8c105b-2ebd-432a-8449-1c3774bf9e2f"
      },
      "execution_count": null,
      "outputs": [
        {
          "output_type": "stream",
          "name": "stdout",
          "text": [
            "Nombre del Artista: Bruno Mars\n",
            "Popularidad: 93\n",
            "Géneros: \n",
            "URL de Spotify: https://open.spotify.com/artist/0du5cEVh5yTK9QJze8zA0C\n",
            "--------------------------------------------------\n",
            "Nombre del Artista: Justin Bieber\n",
            "Popularidad: 96\n",
            "Géneros: \n",
            "URL de Spotify: https://open.spotify.com/artist/1uNFoZAHBGtllmzznpCI3s\n",
            "--------------------------------------------------\n",
            "Nombre del Artista: Bruno & Marrone\n",
            "Popularidad: 77\n",
            "Géneros: sertanejo, sertanejo tradicional, sertanejo universitário\n",
            "URL de Spotify: https://open.spotify.com/artist/5JXhkyafynxCvxtov7C1PV\n",
            "--------------------------------------------------\n",
            "Nombre del Artista: Travis Scott\n",
            "Popularidad: 95\n",
            "Géneros: rap\n",
            "URL de Spotify: https://open.spotify.com/artist/0Y5tJX1MQlPlqiwlOH1tJY\n",
            "--------------------------------------------------\n",
            "Nombre del Artista: Bruno Major\n",
            "Popularidad: 66\n",
            "Géneros: \n",
            "URL de Spotify: https://open.spotify.com/artist/0hDjKSKjl1DC7ovYTDJHe8\n",
            "--------------------------------------------------\n",
            "Nombre del Artista: Silk Sonic\n",
            "Popularidad: 72\n",
            "Géneros: \n",
            "URL de Spotify: https://open.spotify.com/artist/6PvvGcCY2XtUcSRld1Wilr\n",
            "--------------------------------------------------\n",
            "Nombre del Artista: Drake\n",
            "Popularidad: 99\n",
            "Géneros: rap\n",
            "URL de Spotify: https://open.spotify.com/artist/3TVXtAsR1Inumwj472S9r4\n",
            "--------------------------------------------------\n",
            "Nombre del Artista: Bruno Martini\n",
            "Popularidad: 65\n",
            "Géneros: brazilian pop, brazilian bass, electronic\n",
            "URL de Spotify: https://open.spotify.com/artist/5veVxxPm1vzgi6pO2iVA8L\n",
            "--------------------------------------------------\n",
            "Nombre del Artista: SZA\n",
            "Popularidad: 93\n",
            "Géneros: r&b\n",
            "URL de Spotify: https://open.spotify.com/artist/7tYKF4w9nC0nq9CsPZTHyP\n",
            "--------------------------------------------------\n",
            "Nombre del Artista: Bad Bunny\n",
            "Popularidad: 100\n",
            "Géneros: reggaeton, trap latino, urbano latino, latin\n",
            "URL de Spotify: https://open.spotify.com/artist/4q3ewBCX7sLwd24euuV69X\n",
            "--------------------------------------------------\n",
            "Nombre del Artista: Bruno & Barretto\n",
            "Popularidad: 66\n",
            "Géneros: sertanejo, agronejo, sertanejo universitário\n",
            "URL de Spotify: https://open.spotify.com/artist/70x9rYb58QCNNeNxuO3StS\n",
            "--------------------------------------------------\n",
            "Nombre del Artista: Rihanna\n",
            "Popularidad: 93\n",
            "Géneros: \n",
            "URL de Spotify: https://open.spotify.com/artist/5pKCCKE2ajJHZ9KAiaK11H\n",
            "--------------------------------------------------\n",
            "Nombre del Artista: Lil Wayne\n",
            "Popularidad: 90\n",
            "Géneros: rap, hip hop\n",
            "URL de Spotify: https://open.spotify.com/artist/55Aa2cqylxrFIXC767Z865\n",
            "--------------------------------------------------\n",
            "Nombre del Artista: Plácido Domingo\n",
            "Popularidad: 56\n",
            "Géneros: opera, classical\n",
            "URL de Spotify: https://open.spotify.com/artist/4pU3BpenOZFEBzORx2YBJW\n",
            "--------------------------------------------------\n",
            "Nombre del Artista: Nicki Minaj\n",
            "Popularidad: 88\n",
            "Géneros: \n",
            "URL de Spotify: https://open.spotify.com/artist/0hCNtLu0JehylgoiP8L4Gh\n",
            "--------------------------------------------------\n",
            "Nombre del Artista: Bruno Merci\n",
            "Popularidad: 26\n",
            "Géneros: \n",
            "URL de Spotify: https://open.spotify.com/artist/3evWfWt8FpOYDCfug1lMJT\n",
            "--------------------------------------------------\n",
            "Nombre del Artista: Tyler, The Creator\n",
            "Popularidad: 90\n",
            "Géneros: \n",
            "URL de Spotify: https://open.spotify.com/artist/4V8LLVI7PbaPR0K2TGSxFF\n",
            "--------------------------------------------------\n",
            "Nombre del Artista: Bruno Marcelo\n",
            "Popularidad: 48\n",
            "Géneros: salsa choke, dancehall\n",
            "URL de Spotify: https://open.spotify.com/artist/2Kw8bTqfGNAH3hOmR0aSsm\n",
            "--------------------------------------------------\n",
            "Nombre del Artista: Kanye West\n",
            "Popularidad: 93\n",
            "Géneros: rap\n",
            "URL de Spotify: https://open.spotify.com/artist/5K4W6rqBFWDnAN6FQUkS6x\n",
            "--------------------------------------------------\n",
            "Nombre del Artista: Bruno Cardoso\n",
            "Popularidad: 51\n",
            "Géneros: \n",
            "URL de Spotify: https://open.spotify.com/artist/34IKMjXZ3Qy0vjG82n97r6\n",
            "--------------------------------------------------\n"
          ]
        }
      ]
    },
    {
      "cell_type": "code",
      "source": [
        "#Mostrando resultados\n",
        "for artist_info in results['artists']['items']:\n",
        "    print(f\"🎤 Nombre del Artista: {artist_info['name']}\")\n",
        "    print(f\"🔥 Popularidad: {artist_info['popularity']}\")\n",
        "    print(f\"🌍 Géneros: {', '.join(artist_info['genres'])}\")\n",
        "    print(f\"🔗 Spotify URL: {artist_info['external_urls']['spotify']}\")\n",
        "    print(\"-\" * 50)"
      ],
      "metadata": {
        "colab": {
          "base_uri": "https://localhost:8080/"
        },
        "id": "UspD6FTw789e",
        "outputId": "99bc4150-596c-48e7-a66b-b9983a725a45"
      },
      "execution_count": null,
      "outputs": [
        {
          "output_type": "stream",
          "name": "stdout",
          "text": [
            "🎤 Nombre del Artista: Bruno Mars\n",
            "🔥 Popularidad: 93\n",
            "🌍 Géneros: \n",
            "🔗 Spotify URL: https://open.spotify.com/artist/0du5cEVh5yTK9QJze8zA0C\n",
            "--------------------------------------------------\n",
            "🎤 Nombre del Artista: Justin Bieber\n",
            "🔥 Popularidad: 96\n",
            "🌍 Géneros: \n",
            "🔗 Spotify URL: https://open.spotify.com/artist/1uNFoZAHBGtllmzznpCI3s\n",
            "--------------------------------------------------\n",
            "🎤 Nombre del Artista: Bruno & Marrone\n",
            "🔥 Popularidad: 77\n",
            "🌍 Géneros: sertanejo, sertanejo tradicional, sertanejo universitário\n",
            "🔗 Spotify URL: https://open.spotify.com/artist/5JXhkyafynxCvxtov7C1PV\n",
            "--------------------------------------------------\n",
            "🎤 Nombre del Artista: Travis Scott\n",
            "🔥 Popularidad: 95\n",
            "🌍 Géneros: rap\n",
            "🔗 Spotify URL: https://open.spotify.com/artist/0Y5tJX1MQlPlqiwlOH1tJY\n",
            "--------------------------------------------------\n",
            "🎤 Nombre del Artista: Bruno Major\n",
            "🔥 Popularidad: 66\n",
            "🌍 Géneros: \n",
            "🔗 Spotify URL: https://open.spotify.com/artist/0hDjKSKjl1DC7ovYTDJHe8\n",
            "--------------------------------------------------\n",
            "🎤 Nombre del Artista: Silk Sonic\n",
            "🔥 Popularidad: 72\n",
            "🌍 Géneros: \n",
            "🔗 Spotify URL: https://open.spotify.com/artist/6PvvGcCY2XtUcSRld1Wilr\n",
            "--------------------------------------------------\n",
            "🎤 Nombre del Artista: Drake\n",
            "🔥 Popularidad: 99\n",
            "🌍 Géneros: rap\n",
            "🔗 Spotify URL: https://open.spotify.com/artist/3TVXtAsR1Inumwj472S9r4\n",
            "--------------------------------------------------\n",
            "🎤 Nombre del Artista: Bruno Martini\n",
            "🔥 Popularidad: 65\n",
            "🌍 Géneros: brazilian pop, brazilian bass, electronic\n",
            "🔗 Spotify URL: https://open.spotify.com/artist/5veVxxPm1vzgi6pO2iVA8L\n",
            "--------------------------------------------------\n",
            "🎤 Nombre del Artista: SZA\n",
            "🔥 Popularidad: 93\n",
            "🌍 Géneros: r&b\n",
            "🔗 Spotify URL: https://open.spotify.com/artist/7tYKF4w9nC0nq9CsPZTHyP\n",
            "--------------------------------------------------\n",
            "🎤 Nombre del Artista: Bad Bunny\n",
            "🔥 Popularidad: 100\n",
            "🌍 Géneros: reggaeton, trap latino, urbano latino, latin\n",
            "🔗 Spotify URL: https://open.spotify.com/artist/4q3ewBCX7sLwd24euuV69X\n",
            "--------------------------------------------------\n",
            "🎤 Nombre del Artista: Bruno & Barretto\n",
            "🔥 Popularidad: 66\n",
            "🌍 Géneros: sertanejo, agronejo, sertanejo universitário\n",
            "🔗 Spotify URL: https://open.spotify.com/artist/70x9rYb58QCNNeNxuO3StS\n",
            "--------------------------------------------------\n",
            "🎤 Nombre del Artista: Rihanna\n",
            "🔥 Popularidad: 93\n",
            "🌍 Géneros: \n",
            "🔗 Spotify URL: https://open.spotify.com/artist/5pKCCKE2ajJHZ9KAiaK11H\n",
            "--------------------------------------------------\n",
            "🎤 Nombre del Artista: Lil Wayne\n",
            "🔥 Popularidad: 90\n",
            "🌍 Géneros: rap, hip hop\n",
            "🔗 Spotify URL: https://open.spotify.com/artist/55Aa2cqylxrFIXC767Z865\n",
            "--------------------------------------------------\n",
            "🎤 Nombre del Artista: Plácido Domingo\n",
            "🔥 Popularidad: 56\n",
            "🌍 Géneros: opera, classical\n",
            "🔗 Spotify URL: https://open.spotify.com/artist/4pU3BpenOZFEBzORx2YBJW\n",
            "--------------------------------------------------\n",
            "🎤 Nombre del Artista: Nicki Minaj\n",
            "🔥 Popularidad: 88\n",
            "🌍 Géneros: \n",
            "🔗 Spotify URL: https://open.spotify.com/artist/0hCNtLu0JehylgoiP8L4Gh\n",
            "--------------------------------------------------\n",
            "🎤 Nombre del Artista: Bruno Merci\n",
            "🔥 Popularidad: 26\n",
            "🌍 Géneros: \n",
            "🔗 Spotify URL: https://open.spotify.com/artist/3evWfWt8FpOYDCfug1lMJT\n",
            "--------------------------------------------------\n",
            "🎤 Nombre del Artista: Tyler, The Creator\n",
            "🔥 Popularidad: 90\n",
            "🌍 Géneros: \n",
            "🔗 Spotify URL: https://open.spotify.com/artist/4V8LLVI7PbaPR0K2TGSxFF\n",
            "--------------------------------------------------\n",
            "🎤 Nombre del Artista: Bruno Marcelo\n",
            "🔥 Popularidad: 48\n",
            "🌍 Géneros: salsa choke, dancehall\n",
            "🔗 Spotify URL: https://open.spotify.com/artist/2Kw8bTqfGNAH3hOmR0aSsm\n",
            "--------------------------------------------------\n",
            "🎤 Nombre del Artista: Kanye West\n",
            "🔥 Popularidad: 93\n",
            "🌍 Géneros: rap\n",
            "🔗 Spotify URL: https://open.spotify.com/artist/5K4W6rqBFWDnAN6FQUkS6x\n",
            "--------------------------------------------------\n",
            "🎤 Nombre del Artista: Bruno Cardoso\n",
            "🔥 Popularidad: 51\n",
            "🌍 Géneros: \n",
            "🔗 Spotify URL: https://open.spotify.com/artist/34IKMjXZ3Qy0vjG82n97r6\n",
            "--------------------------------------------------\n"
          ]
        }
      ]
    }
  ]
}